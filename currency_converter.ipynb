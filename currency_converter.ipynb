{
  "nbformat": 4,
  "nbformat_minor": 0,
  "metadata": {
    "colab": {
      "provenance": []
    },
    "kernelspec": {
      "name": "python3",
      "display_name": "Python 3"
    },
    "language_info": {
      "name": "python"
    }
  },
  "cells": [
    {
      "cell_type": "markdown",
      "source": [
        "Web scraping the exchange rates from BOCHK"
      ],
      "metadata": {
        "id": "LDeL1PfMO5aE"
      }
    },
    {
      "cell_type": "code",
      "execution_count": null,
      "metadata": {
        "id": "tFjlDRj5_4ia"
      },
      "outputs": [],
      "source": [
        "from bs4 import BeautifulSoup\n",
        "import requests\n",
        "import re\n",
        "import pandas as pd\n",
        "\n",
        "url = \"https://www.bochk.com/whk/rates/exchangeRatesHKD/exchangeRatesHKD-input.action?lang=en\"\n",
        "html = requests.get(url).text\n",
        "soup = BeautifulSoup(html, 'lxml')\n",
        "print(soup.prettify())"
      ]
    },
    {
      "cell_type": "markdown",
      "source": [
        "Storing the currency codes, customer buy and customer sell data in 3 separate lists"
      ],
      "metadata": {
        "id": "YDVdaaMYPJYI"
      }
    },
    {
      "cell_type": "code",
      "source": [
        "result = soup.find_all('td')\n",
        "clist = []\n",
        "sell=[]\n",
        "buy=[]\n",
        "for i in range(0,len(result),3):\n",
        "  clist.append(result[i].text)\n",
        "  sell.append(result[i+1].text.strip())\n",
        "del clist[-1]\n",
        "del sell[-1]\n",
        "\n",
        "for i in range(0,len(result)-2,3):\n",
        "  buy.append(result[i+2].text.strip())\n",
        "\n",
        "if len(clist)!=len(sell) or len(sell)!=len(buy):\n",
        "  print(\"Unmatched number of data\")"
      ],
      "metadata": {
        "id": "nIoe1hK2EyFH"
      },
      "execution_count": null,
      "outputs": []
    },
    {
      "cell_type": "markdown",
      "source": [
        "A dataframe showing the data"
      ],
      "metadata": {
        "id": "tjGG0276QLBY"
      }
    },
    {
      "cell_type": "code",
      "source": [
        "df = pd.DataFrame({\"Currency\": clist, \"Customer sell\": sell, \"Customer buy\": buy})\n",
        "df"
      ],
      "metadata": {
        "colab": {
          "base_uri": "https://localhost:8080/",
          "height": 582
        },
        "id": "n2JZwFNHH4wy",
        "outputId": "8373d712-ea88-4dd3-d34d-761c11369c27"
      },
      "execution_count": null,
      "outputs": [
        {
          "output_type": "execute_result",
          "data": {
            "text/plain": [
              "   Currency Customer sell Customer buy\n",
              "0       CNY      1.109720     1.123290\n",
              "1       CNH      1.107340     1.121790\n",
              "2       USD      7.785200     7.827900\n",
              "3       GBP      9.330430     9.484500\n",
              "4       JPY      0.058250     0.059250\n",
              "5       AUD      5.190370     5.295950\n",
              "6       NZD      4.852240     4.962450\n",
              "7       CAD      5.696450     5.785970\n",
              "8       EUR      8.218010     8.356690\n",
              "9       CHF      8.294440     8.436520\n",
              "10      DKK      1.101370     1.127810\n",
              "11      NOK      0.778400     0.802170\n",
              "12      SEK      0.730260     0.752600\n",
              "13      SGD      5.752580     5.814840\n",
              "14      THB      0.220280     0.228740\n",
              "15      BND      5.752580     5.814840\n",
              "16      ZAR      0.447790     0.466780"
            ],
            "text/html": [
              "\n",
              "  <div id=\"df-55360935-ba02-4014-9505-fab646c2abe3\">\n",
              "    <div class=\"colab-df-container\">\n",
              "      <div>\n",
              "<style scoped>\n",
              "    .dataframe tbody tr th:only-of-type {\n",
              "        vertical-align: middle;\n",
              "    }\n",
              "\n",
              "    .dataframe tbody tr th {\n",
              "        vertical-align: top;\n",
              "    }\n",
              "\n",
              "    .dataframe thead th {\n",
              "        text-align: right;\n",
              "    }\n",
              "</style>\n",
              "<table border=\"1\" class=\"dataframe\">\n",
              "  <thead>\n",
              "    <tr style=\"text-align: right;\">\n",
              "      <th></th>\n",
              "      <th>Currency</th>\n",
              "      <th>Customer sell</th>\n",
              "      <th>Customer buy</th>\n",
              "    </tr>\n",
              "  </thead>\n",
              "  <tbody>\n",
              "    <tr>\n",
              "      <th>0</th>\n",
              "      <td>CNY</td>\n",
              "      <td>1.109720</td>\n",
              "      <td>1.123290</td>\n",
              "    </tr>\n",
              "    <tr>\n",
              "      <th>1</th>\n",
              "      <td>CNH</td>\n",
              "      <td>1.107340</td>\n",
              "      <td>1.121790</td>\n",
              "    </tr>\n",
              "    <tr>\n",
              "      <th>2</th>\n",
              "      <td>USD</td>\n",
              "      <td>7.785200</td>\n",
              "      <td>7.827900</td>\n",
              "    </tr>\n",
              "    <tr>\n",
              "      <th>3</th>\n",
              "      <td>GBP</td>\n",
              "      <td>9.330430</td>\n",
              "      <td>9.484500</td>\n",
              "    </tr>\n",
              "    <tr>\n",
              "      <th>4</th>\n",
              "      <td>JPY</td>\n",
              "      <td>0.058250</td>\n",
              "      <td>0.059250</td>\n",
              "    </tr>\n",
              "    <tr>\n",
              "      <th>5</th>\n",
              "      <td>AUD</td>\n",
              "      <td>5.190370</td>\n",
              "      <td>5.295950</td>\n",
              "    </tr>\n",
              "    <tr>\n",
              "      <th>6</th>\n",
              "      <td>NZD</td>\n",
              "      <td>4.852240</td>\n",
              "      <td>4.962450</td>\n",
              "    </tr>\n",
              "    <tr>\n",
              "      <th>7</th>\n",
              "      <td>CAD</td>\n",
              "      <td>5.696450</td>\n",
              "      <td>5.785970</td>\n",
              "    </tr>\n",
              "    <tr>\n",
              "      <th>8</th>\n",
              "      <td>EUR</td>\n",
              "      <td>8.218010</td>\n",
              "      <td>8.356690</td>\n",
              "    </tr>\n",
              "    <tr>\n",
              "      <th>9</th>\n",
              "      <td>CHF</td>\n",
              "      <td>8.294440</td>\n",
              "      <td>8.436520</td>\n",
              "    </tr>\n",
              "    <tr>\n",
              "      <th>10</th>\n",
              "      <td>DKK</td>\n",
              "      <td>1.101370</td>\n",
              "      <td>1.127810</td>\n",
              "    </tr>\n",
              "    <tr>\n",
              "      <th>11</th>\n",
              "      <td>NOK</td>\n",
              "      <td>0.778400</td>\n",
              "      <td>0.802170</td>\n",
              "    </tr>\n",
              "    <tr>\n",
              "      <th>12</th>\n",
              "      <td>SEK</td>\n",
              "      <td>0.730260</td>\n",
              "      <td>0.752600</td>\n",
              "    </tr>\n",
              "    <tr>\n",
              "      <th>13</th>\n",
              "      <td>SGD</td>\n",
              "      <td>5.752580</td>\n",
              "      <td>5.814840</td>\n",
              "    </tr>\n",
              "    <tr>\n",
              "      <th>14</th>\n",
              "      <td>THB</td>\n",
              "      <td>0.220280</td>\n",
              "      <td>0.228740</td>\n",
              "    </tr>\n",
              "    <tr>\n",
              "      <th>15</th>\n",
              "      <td>BND</td>\n",
              "      <td>5.752580</td>\n",
              "      <td>5.814840</td>\n",
              "    </tr>\n",
              "    <tr>\n",
              "      <th>16</th>\n",
              "      <td>ZAR</td>\n",
              "      <td>0.447790</td>\n",
              "      <td>0.466780</td>\n",
              "    </tr>\n",
              "  </tbody>\n",
              "</table>\n",
              "</div>\n",
              "      <button class=\"colab-df-convert\" onclick=\"convertToInteractive('df-55360935-ba02-4014-9505-fab646c2abe3')\"\n",
              "              title=\"Convert this dataframe to an interactive table.\"\n",
              "              style=\"display:none;\">\n",
              "        \n",
              "  <svg xmlns=\"http://www.w3.org/2000/svg\" height=\"24px\"viewBox=\"0 0 24 24\"\n",
              "       width=\"24px\">\n",
              "    <path d=\"M0 0h24v24H0V0z\" fill=\"none\"/>\n",
              "    <path d=\"M18.56 5.44l.94 2.06.94-2.06 2.06-.94-2.06-.94-.94-2.06-.94 2.06-2.06.94zm-11 1L8.5 8.5l.94-2.06 2.06-.94-2.06-.94L8.5 2.5l-.94 2.06-2.06.94zm10 10l.94 2.06.94-2.06 2.06-.94-2.06-.94-.94-2.06-.94 2.06-2.06.94z\"/><path d=\"M17.41 7.96l-1.37-1.37c-.4-.4-.92-.59-1.43-.59-.52 0-1.04.2-1.43.59L10.3 9.45l-7.72 7.72c-.78.78-.78 2.05 0 2.83L4 21.41c.39.39.9.59 1.41.59.51 0 1.02-.2 1.41-.59l7.78-7.78 2.81-2.81c.8-.78.8-2.07 0-2.86zM5.41 20L4 18.59l7.72-7.72 1.47 1.35L5.41 20z\"/>\n",
              "  </svg>\n",
              "      </button>\n",
              "      \n",
              "  <style>\n",
              "    .colab-df-container {\n",
              "      display:flex;\n",
              "      flex-wrap:wrap;\n",
              "      gap: 12px;\n",
              "    }\n",
              "\n",
              "    .colab-df-convert {\n",
              "      background-color: #E8F0FE;\n",
              "      border: none;\n",
              "      border-radius: 50%;\n",
              "      cursor: pointer;\n",
              "      display: none;\n",
              "      fill: #1967D2;\n",
              "      height: 32px;\n",
              "      padding: 0 0 0 0;\n",
              "      width: 32px;\n",
              "    }\n",
              "\n",
              "    .colab-df-convert:hover {\n",
              "      background-color: #E2EBFA;\n",
              "      box-shadow: 0px 1px 2px rgba(60, 64, 67, 0.3), 0px 1px 3px 1px rgba(60, 64, 67, 0.15);\n",
              "      fill: #174EA6;\n",
              "    }\n",
              "\n",
              "    [theme=dark] .colab-df-convert {\n",
              "      background-color: #3B4455;\n",
              "      fill: #D2E3FC;\n",
              "    }\n",
              "\n",
              "    [theme=dark] .colab-df-convert:hover {\n",
              "      background-color: #434B5C;\n",
              "      box-shadow: 0px 1px 3px 1px rgba(0, 0, 0, 0.15);\n",
              "      filter: drop-shadow(0px 1px 2px rgba(0, 0, 0, 0.3));\n",
              "      fill: #FFFFFF;\n",
              "    }\n",
              "  </style>\n",
              "\n",
              "      <script>\n",
              "        const buttonEl =\n",
              "          document.querySelector('#df-55360935-ba02-4014-9505-fab646c2abe3 button.colab-df-convert');\n",
              "        buttonEl.style.display =\n",
              "          google.colab.kernel.accessAllowed ? 'block' : 'none';\n",
              "\n",
              "        async function convertToInteractive(key) {\n",
              "          const element = document.querySelector('#df-55360935-ba02-4014-9505-fab646c2abe3');\n",
              "          const dataTable =\n",
              "            await google.colab.kernel.invokeFunction('convertToInteractive',\n",
              "                                                     [key], {});\n",
              "          if (!dataTable) return;\n",
              "\n",
              "          const docLinkHtml = 'Like what you see? Visit the ' +\n",
              "            '<a target=\"_blank\" href=https://colab.research.google.com/notebooks/data_table.ipynb>data table notebook</a>'\n",
              "            + ' to learn more about interactive tables.';\n",
              "          element.innerHTML = '';\n",
              "          dataTable['output_type'] = 'display_data';\n",
              "          await google.colab.output.renderOutput(dataTable, element);\n",
              "          const docLink = document.createElement('div');\n",
              "          docLink.innerHTML = docLinkHtml;\n",
              "          element.appendChild(docLink);\n",
              "        }\n",
              "      </script>\n",
              "    </div>\n",
              "  </div>\n",
              "  "
            ]
          },
          "metadata": {},
          "execution_count": 113
        }
      ]
    },
    {
      "cell_type": "code",
      "source": [
        "currency_code, amount, bs = [x for x in input(\"Please enter the command following this format: Currency code, Amount, Buy/Sell\\n\").split(', ')]\n",
        "if currency_code not in clist:\n",
        "  print(\"Invalid currency code, please enter the command correctly again\\n\")\n",
        "  currency_code, amount, bs = [x for x in input(\"Please enter the command following this format: Currency code, Amount, Buy/Sell\\n\").split(', ')]\n",
        "\n",
        "if re.findall(r'\\D',amount):\n",
        "  print(\"Invalid amount, please enter the command correctly again\\n\")\n",
        "  currency_code, amount, bs = [x for x in input(\"Please enter the command following this format: Currency code, Amount, Buy/Sell\\n\").split(', ')]\n",
        "\n",
        "if bs!='Buy' and bs!='Sell':\n",
        "  print(\"Invalid option, please enter Buy or Sell only\\n\")\n",
        "  currency_code, amount, bs = [x for x in input(\"Please enter the command following this format: Currency code, Amount, Buy/Sell\\n\").split(', ')]"
      ],
      "metadata": {
        "colab": {
          "base_uri": "https://localhost:8080/"
        },
        "id": "AgOdH7E7I06B",
        "outputId": "edfb1df2-e07e-4399-cf39-9133482be5b5"
      },
      "execution_count": null,
      "outputs": [
        {
          "name": "stdout",
          "output_type": "stream",
          "text": [
            "Please enter the command following this format: Currency code, Amount, Buy/Sell\n",
            "JPY, 10000, Sell\n"
          ]
        }
      ]
    },
    {
      "cell_type": "code",
      "source": [
        "for i in range(len(clist)):\n",
        "  if clist[i] == currency_code:\n",
        "    b = float(buy[i])\n",
        "    s = float(sell[i])\n",
        "    if bs == \"Buy\":\n",
        "      print(amount, currency_code, '=', float(amount)*b ,\"HKG\")\n",
        "    if bs == \"Sell\":\n",
        "      print(amount, \"HKG\", '=', float(amount)/s ,currency_code)"
      ],
      "metadata": {
        "colab": {
          "base_uri": "https://localhost:8080/"
        },
        "id": "xmSCCw7HLKes",
        "outputId": "3c887c7c-03eb-46fc-a989-de23b665357d"
      },
      "execution_count": null,
      "outputs": [
        {
          "output_type": "stream",
          "name": "stdout",
          "text": [
            "10000 HKG = 171673.81974248926 JPY\n"
          ]
        }
      ]
    }
  ]
}